{
 "cells": [
  {
   "cell_type": "code",
   "execution_count": 3,
   "metadata": {},
   "outputs": [],
   "source": [
    "import os\n",
    "import csv\n",
    "PyPoll = os.path.join(\"Resources\", \"election_data.csv\")"
   ]
  },
  {
   "cell_type": "code",
   "execution_count": 4,
   "metadata": {},
   "outputs": [
    {
     "data": {
      "text/plain": [
       "'Resources/election_data.csv'"
      ]
     },
     "execution_count": 4,
     "metadata": {},
     "output_type": "execute_result"
    }
   ],
   "source": [
    "PyPoll"
   ]
  },
  {
   "cell_type": "code",
   "execution_count": 10,
   "metadata": {},
   "outputs": [
    {
     "name": "stdout",
     "output_type": "stream",
     "text": [
      "Header: Voter ID,County,Candidate\n",
      "\n",
      "There was a total of 3521001 votes cast in this election\n",
      "Khan won the election with a total of 2218231 votes, which was good for 63.00002840102243%\n",
      "Correy receieved a total of 704200 votes, which was good for 20.00002272084376%\n",
      "Li receieved a total of 492940 votes, which was good for 14.000043737711193%\n",
      "O'Tooley receieved a total of 105630 votes, which was good for 2.999999147969569%\n"
     ]
    }
   ],
   "source": [
    "KhansVote=0\n",
    "CorreysVote=0\n",
    "LisVote=0\n",
    "OTooleysVote=0\n",
    "with open(PyPoll) as csvfile:\n",
    "    csvreader=csv.reader(csvfile, delimiter=\",\")\n",
    "    \n",
    "    csvheader=next(csvfile)\n",
    "    print(f\"Header: {csvheader}\")\n",
    "    \n",
    "    for row in csvreader:\n",
    "        Total=csvreader.line_num\n",
    "        if row[2] == \"Khan\":\n",
    "            KhansVote = KhansVote + 1\n",
    "            PctKhan = (KhansVote/Total) * 100\n",
    "        elif row[2] == \"Correy\":\n",
    "            CorreysVote = CorreysVote + 1\n",
    "            PctCorrey = (CorreysVote/Total) * 100\n",
    "        elif row[2] == \"Li\":\n",
    "            LisVote = LisVote + 1\n",
    "            PctLi = (LisVote/Total) * 100\n",
    "        elif row[2] == \"O'Tooley\":\n",
    "            OTooleysVote = OTooleysVote + 1\n",
    "            PctOTooley = (OTooleysVote/Total) * 100\n",
    "    print(\"There was a total of {} votes cast in this election\".format(Total))\n",
    "    print(\"Khan won the election with a total of {} votes, which was good for {}%\".format(KhansVote, PctKhan))\n",
    "    print(\"Correy receieved a total of {} votes, which was good for {}%\".format(CorreysVote, PctCorrey))\n",
    "    print(\"Li receieved a total of {} votes, which was good for {}%\".format(LisVote, PctLi))\n",
    "    print(\"O'Tooley receieved a total of {} votes, which was good for {}%\".format(OTooleysVote, PctOTooley))\n",
    "    \n",
    "        "
   ]
  },
  {
   "cell_type": "code",
   "execution_count": null,
   "metadata": {},
   "outputs": [],
   "source": []
  }
 ],
 "metadata": {
  "kernelspec": {
   "display_name": "Python 3",
   "language": "python",
   "name": "python3"
  },
  "language_info": {
   "codemirror_mode": {
    "name": "ipython",
    "version": 3
   },
   "file_extension": ".py",
   "mimetype": "text/x-python",
   "name": "python",
   "nbconvert_exporter": "python",
   "pygments_lexer": "ipython3",
   "version": "3.7.6"
  }
 },
 "nbformat": 4,
 "nbformat_minor": 4
}
